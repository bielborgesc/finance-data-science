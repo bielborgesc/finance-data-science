{
  "nbformat": 4,
  "nbformat_minor": 0,
  "metadata": {
    "colab": {
      "provenance": []
    },
    "kernelspec": {
      "name": "python3",
      "display_name": "Python 3"
    },
    "language_info": {
      "name": "python"
    }
  },
  "cells": [
    {
      "cell_type": "markdown",
      "source": [
        "1 - Ler dois números inteiros, executar e mostrar o resultado das seguintes operações: adição, subtração, multiplicação e divisão"
      ],
      "metadata": {
        "id": "13qm5c8RxUt7"
      }
    },
    {
      "cell_type": "code",
      "execution_count": null,
      "metadata": {
        "colab": {
          "base_uri": "https://localhost:8080/"
        },
        "id": "4k7xCrfNxRXp",
        "outputId": "386e655d-0753-4cee-8515-229db13597f9"
      },
      "outputs": [
        {
          "output_type": "stream",
          "name": "stdout",
          "text": [
            "Primeiro valor: 25\n",
            "Segundo valor: 10\n",
            "Adição: 35\n",
            "Subtração: 15\n",
            "Multiplicação: 250\n",
            "Divisão: 2.5\n"
          ]
        }
      ],
      "source": [
        "a = int(input('Primeiro valor: '))\n",
        "b = int(input('Segundo valor: '))\n",
        "\n",
        "print(f'Adição: {a+b}')\n",
        "print(f'Subtração: {a-b}')\n",
        "print(f'Multiplicação: {a*b}')\n",
        "print(f'Divisão: {a/b}')"
      ]
    },
    {
      "cell_type": "markdown",
      "source": [
        "2 - Efetuar o cálculo da quantidade de litros de combustível gasto em uma viagem, utilizando um automóvel que faz 12 Km por litro. Para obter o cálculo, o usuário deve fornecer o tempo gasto na viagem e a velocidade média durante ela. Desta forma, será possível obter a distância percorrida com a fórmula DISTANCIA = TEMPO * VELOCIDADE. Tendo o valor da distância, basta calcular a quantidade de litros de combustível utilizada na viagem, com a fórmula: LITROS_USADOS = DISTANCIA / 12. O programa deve apresentar os valores da velocidade média, tempo gasto na viagem, a distância percorrida e a quantidade de litros utilizada na viagem"
      ],
      "metadata": {
        "id": "kUQKaJXLxa47"
      }
    },
    {
      "cell_type": "code",
      "source": [
        "kmPorLitro = 12\n",
        "tempoGasto = float(input('Tempo gasto em horas: '))\n",
        "velocidadeMedia = float(input('Velocidade média em km: '))\n",
        "distancia = tempoGasto * velocidadeMedia\n",
        "litrosUsados = distancia/kmPorLitro\n",
        "print(f'Um carro que faz {kmPorLitro} km/L gastando um tempo de {tempoGasto} h a uma velocidade média de {velocidadeMedia} KM/h percorre uma distância de {distancia} km e usa {round(litrosUsados, 3)} Litros de Combustivel')\n"
      ],
      "metadata": {
        "colab": {
          "base_uri": "https://localhost:8080/"
        },
        "id": "y5THrhy_x84L",
        "outputId": "117ae4c8-9f67-40c0-b7e0-36463a1531a5"
      },
      "execution_count": null,
      "outputs": [
        {
          "output_type": "stream",
          "name": "stdout",
          "text": [
            "Tempo gasto em horas: 5\n",
            "Velocidade média em km: 100\n",
            "Um carro que faz 12 km/L gastando um tempo de 5.0 h a uma velocidade média de 100.0 KM/h percorre uma distância de 500.0 km e usa 41.667 Litros de Combustivel\n"
          ]
        }
      ]
    },
    {
      "cell_type": "markdown",
      "source": [
        "3 - Leia a idade do usuário e classifique-o em:\n",
        "- Criança – 0 a 12 anos\n",
        "- Adolescente – 13 a 17 anos\n",
        "- Adulto – acima de 18 anos\n",
        "-Se o usuário digitar um número negativo, mostrar a mensagem que a idade é inválida"
      ],
      "metadata": {
        "id": "FpQvjo-eDhG8"
      }
    },
    {
      "cell_type": "code",
      "source": [
        "idade = int(input('Informe a idade: '))\n",
        "if(idade <= 0):\n",
        "  print('Idade invalida')\n",
        "elif(idade <= 12):\n",
        "  print('Criança')\n",
        "elif(idade >= 13 and idade <= 17):\n",
        "  print('Adolescente')\n",
        "else :\n",
        "  print('Adulto')"
      ],
      "metadata": {
        "colab": {
          "base_uri": "https://localhost:8080/"
        },
        "id": "JAyjoEyRD2j1",
        "outputId": "c8ffee34-9f1c-46c3-a43d-8a50b3d59a77"
      },
      "execution_count": null,
      "outputs": [
        {
          "output_type": "stream",
          "name": "stdout",
          "text": [
            "Informe a idade: 2\n",
            "Criança\n"
          ]
        }
      ]
    },
    {
      "cell_type": "markdown",
      "source": [
        "4 - Calcular a média de um aluno que cursou a disciplina de Programação I, a partir da leitura das notas M1, M2 e M3; passando por um cálculo da média aritmética. Após a média calculada, devemos anunciar se o aluno foi aprovado, reprovado ou pegou exame\n",
        "- Se a média estiver entre 0.0 e 4.0, o aluno está reprovado\n",
        "- Se a média estiver entre 4.1 e 6.0, o aluno pegou exame\n",
        "- Se a média for maior do que 6.0, o aluno está aprovado\n",
        "- Se o aluno pegou exame, deve ser lida a nota do exame. Se a nota do exame for maior do que 6.0, está aprovado, senão; está reprovado"
      ],
      "metadata": {
        "id": "Yyv-T2pQDzuv"
      }
    },
    {
      "cell_type": "code",
      "source": [
        "m1 = float(input('Nota 1: '))\n",
        "m2 = float(input('Nota 2: '))\n",
        "m3 = float(input('Nota 3: '))\n",
        "mediaAri = ((m1 + m2 + m3) / 3)\n",
        "\n",
        "if(mediaAri >= 0.0 and mediaAri <= 4.0):\n",
        "  print('Reprovado')\n",
        "elif(mediaAri >= 4.1 and mediaAri <= 6.0):\n",
        "  print('Pegou Exame')\n",
        "  exame = float(input('Nota do exame: '))\n",
        "  if(exame >= 6.0):\n",
        "    print('Passou')\n",
        "  else:\n",
        "    print('Reprovou')\n",
        "else:\n",
        "  print('Aprovado')"
      ],
      "metadata": {
        "colab": {
          "base_uri": "https://localhost:8080/"
        },
        "id": "80Dubsl9DjTw",
        "outputId": "efdea4de-c0bf-43c4-eb72-f001ee144f23"
      },
      "execution_count": null,
      "outputs": [
        {
          "output_type": "stream",
          "name": "stdout",
          "text": [
            "Nota 1: 5\n",
            "Nota 2: 5\n",
            "Nota 3: 5\n",
            "Pegou Exame\n",
            "Nota do exame: 4\n",
            "Reprovou\n"
          ]
        }
      ]
    },
    {
      "cell_type": "markdown",
      "source": [
        "5 - Ler 5 notas e informar a média"
      ],
      "metadata": {
        "id": "u2LHXKkg-ke1"
      }
    },
    {
      "cell_type": "code",
      "source": [
        "nota = 0\n",
        "for i in range(0, 5):\n",
        "  novaNota = float(input(f'Insira a nota {i+1}: '))\n",
        "  nota += novaNota\n",
        "print(f'Sua média é: {nota/5}')"
      ],
      "metadata": {
        "colab": {
          "base_uri": "https://localhost:8080/"
        },
        "id": "9EudAdkB-oIc",
        "outputId": "94bd7d4e-1b49-4c2b-b53e-6cb35f1cd28a"
      },
      "execution_count": null,
      "outputs": [
        {
          "output_type": "stream",
          "name": "stdout",
          "text": [
            "Insira a nota 1: 10\n",
            "Insira a nota 2: 7\n",
            "Insira a nota 3: 4\n",
            "Insira a nota 4: 6\n",
            "Insira a nota 5: 8\n",
            "Sua média é: 7.0\n"
          ]
        }
      ]
    },
    {
      "cell_type": "markdown",
      "source": [
        "6 - Imprimir a tabuada do número 3 (3 x 1 = 1 - 3 x 10 = 30)"
      ],
      "metadata": {
        "id": "wqwOTVam_Scv"
      }
    },
    {
      "cell_type": "code",
      "source": [
        "nDaabuada = 3\n",
        "for i in range(1, 11):\n",
        "  print(f'{nDaabuada} X {i} = {nDaabuada*i}')"
      ],
      "metadata": {
        "colab": {
          "base_uri": "https://localhost:8080/"
        },
        "id": "qUNnO5ge_WOc",
        "outputId": "fa210a52-b18c-4a55-cb8c-fbcc18e01d4e"
      },
      "execution_count": null,
      "outputs": [
        {
          "output_type": "stream",
          "name": "stdout",
          "text": [
            "3 X 1 = 3\n",
            "3 X 2 = 6\n",
            "3 X 3 = 9\n",
            "3 X 4 = 12\n",
            "3 X 5 = 15\n",
            "3 X 6 = 18\n",
            "3 X 7 = 21\n",
            "3 X 8 = 24\n",
            "3 X 9 = 27\n",
            "3 X 10 = 30\n"
          ]
        }
      ]
    },
    {
      "cell_type": "markdown",
      "source": [
        "7 - Lista: Crie uma estrutura de repetição para fazer a leitura de 5 números inteiros e os armazene dentro de uma lista. Após a leitura, crie outra estrutura de repetição para somar todos os valores digitados"
      ],
      "metadata": {
        "id": "PEiYLaGjGJts"
      }
    },
    {
      "cell_type": "code",
      "source": [
        "array = []\n",
        "for i in range(0, 5):\n",
        "  aux = int(input('Digite um número: '))\n",
        "  array.append(aux)\n",
        "\n",
        "soma = 0\n",
        "for elem in array:\n",
        "  soma += elem\n",
        "\n",
        "print(array)\n",
        "print(soma)\n",
        "\n"
      ],
      "metadata": {
        "colab": {
          "base_uri": "https://localhost:8080/"
        },
        "id": "czPQft9fd6St",
        "outputId": "05e0c2f9-a99e-4657-c2c9-a12fc6c21ac6"
      },
      "execution_count": null,
      "outputs": [
        {
          "output_type": "stream",
          "name": "stdout",
          "text": [
            "Digite um número: 10\n",
            "Digite um número: 5\n",
            "Digite um número: 7\n",
            "Digite um número: 13\n",
            "Digite um número: 24\n",
            "Digite um número: 52\n",
            "[10, 5, 7, 13, 24, 52]\n",
            "111\n"
          ]
        }
      ]
    },
    {
      "cell_type": "code",
      "source": [
        "array = []\n",
        "for i in range(0, 5):\n",
        "  aux = int(input('Digite um número: '))\n",
        "  array.append(aux)\n",
        "\n",
        "import numpy as np\n",
        "soma = np.array(array).sum()\n",
        "\n",
        "print(array)\n",
        "print(soma)\n"
      ],
      "metadata": {
        "colab": {
          "base_uri": "https://localhost:8080/"
        },
        "id": "1tf54m82hXSE",
        "outputId": "b5c86e96-59e1-4f2a-f327-131141da4c2f"
      },
      "execution_count": null,
      "outputs": [
        {
          "output_type": "stream",
          "name": "stdout",
          "text": [
            "Digite um número: 1\n",
            "Digite um número: 2\n",
            "Digite um número: 3\n",
            "Digite um número: 4\n",
            "Digite um número: 5\n",
            "[1, 2, 3, 4, 5]\n",
            "15\n"
          ]
        }
      ]
    },
    {
      "cell_type": "markdown",
      "source": [
        "8 - Dicionário: Crie um dicionário para armazenar o nome e a nota de 3 alunos, fazendo a leitura dos valores por meio de uma estrutura de repetição. Depois, crie uma nova estrutura de repetição para somar todas as notas e retornar a média"
      ],
      "metadata": {
        "id": "NjfX0IVjei3D"
      }
    },
    {
      "cell_type": "code",
      "source": [
        "dic = {}\n",
        "for i in range(0, 3):\n",
        "  nome = input('Seu nome: ')\n",
        "  nota = float(input('Sua nota: '))\n",
        "  dic[nome] = nota\n",
        "\n",
        "soma_notas = sum(dic.values())\n",
        "media_notas = soma_notas / len(dic)\n",
        "\n",
        "print(\"Dicionário de Notas:\")\n",
        "for aluno, nota in dic.items():\n",
        "    print(f\"{aluno}: {nota}\")\n",
        "\n",
        "print(f\"\\nMédia das Notas: {media_notas}\")\n"
      ],
      "metadata": {
        "colab": {
          "base_uri": "https://localhost:8080/"
        },
        "id": "9qNj4Sqjemn8",
        "outputId": "b0ae45c1-6323-4237-b251-989da2234f11"
      },
      "execution_count": null,
      "outputs": [
        {
          "output_type": "stream",
          "name": "stdout",
          "text": [
            "Seu nome: Gabriel\n",
            "Sua nota: 8\n",
            "Seu nome: Bianca\n",
            "Sua nota: 10\n",
            "Seu nome: Pedro\n",
            "Sua nota: 5\n",
            "Dicionário de Notas:\n",
            "Gabriel: 8.0\n",
            "Bianca: 10.0\n",
            "Pedro: 5.0\n",
            "\n",
            "Média das Notas: 7.666666666666667\n"
          ]
        }
      ]
    },
    {
      "cell_type": "markdown",
      "source": [
        "9 - Matriz: Dada a matriz abaixo, construa uma estrutura de repetição para percorrer e somar todos os elementos da matriz\n",
        "\n",
        "matriz = np.array([[3, 4, 1],\n",
        "                   [3, 1, 5]])"
      ],
      "metadata": {
        "id": "timmpITQgCqW"
      }
    },
    {
      "cell_type": "code",
      "source": [
        "import numpy as np\n",
        "matriz = np.array([[3, 4, 1], [3, 1, 5]])\n",
        "soma = 0\n",
        "\n",
        "for i in range(0, len(matriz)):\n",
        "  for j in range(0, len(matriz[i])):\n",
        "      soma += matriz[i][j]\n",
        "\n",
        "print(soma)"
      ],
      "metadata": {
        "colab": {
          "base_uri": "https://localhost:8080/"
        },
        "id": "Q2MYjgKigGDT",
        "outputId": "ce983c93-6518-4b56-d3cf-7b99f113d0a9"
      },
      "execution_count": null,
      "outputs": [
        {
          "output_type": "stream",
          "name": "stdout",
          "text": [
            "17\n"
          ]
        }
      ]
    },
    {
      "cell_type": "markdown",
      "source": [
        "10 - Ler uma temperatura em graus Celsius e apresentá-la convertida em graus Fahrenheit. A fórmula de conversão é F = (9 * C + 160) / 5, na qual F é a temperatura em Fahrenheit e C é a temperatura em graus Celsius\n",
        "- Função para ler e retorna o valor da temperatura (não recebe parâmetro)\n",
        "- Função para fazer o cálculo (recebe como parâmetro a temperatura em graus Celsius)\n",
        "- Função para mostrar o resultado, recebendo como parâmetro o valor e fazendo a impressão"
      ],
      "metadata": {
        "id": "Wdg5xhSTPwjZ"
      }
    },
    {
      "cell_type": "code",
      "source": [
        "def valorDaTemperatua():\n",
        "  return int(input('Temperatura em Fº: '))\n",
        "\n",
        "def temperaturaEmC(tempEmF):\n",
        "  return (9 * tempEmF + 160)/5\n",
        "\n",
        "def printResult(resultado):\n",
        "  print(f'O resultado foi de: {resultado}° C')\n",
        "\n",
        "printResult(temperaturaEmC(valorDaTemperatua()))"
      ],
      "metadata": {
        "colab": {
          "base_uri": "https://localhost:8080/"
        },
        "id": "MucmHbMyP_mr",
        "outputId": "7ab2c01b-a2cb-4d4c-ac00-4c8f45290ad4"
      },
      "execution_count": null,
      "outputs": [
        {
          "output_type": "stream",
          "name": "stdout",
          "text": [
            "Temperatura em Fº: 100\n",
            "O resultado foi de: 212.0° C\n"
          ]
        }
      ]
    },
    {
      "cell_type": "markdown",
      "source": [
        "12 - Efetuar o cálculo da quantidade de litros de combustível gasto em uma viagem, utilizando um automóvel que faz 12 Km por litro. Para obter o cálculo, o usuário deve fornecer o tempo gasto na viagem e a velocidade média durante ela. Desta forma, será possível obter a distância percorrida com a fórmula DISTANCIA = TEMPO * VELOCIDADE. Tendo o valor da distância, basta calcular a quantidade de litros de combustível utilizada na viagem, com a fórmula: LITROS_USADOS = DISTANCIA / 12. O programa deve apresentar os valores da velocidade média, tempo gasto na viagem, a distância percorrida e a quantidade de litros utilizada na viagem\n",
        "- Função para ler os valores (não recebe parâmetro e retorna os dois valores)\n",
        "- Função para calcular a distância (recebe como parâmetro o tempo e a velocidade e retorna a distância)\n",
        "- Função para calcular a quantidade de litros (recebe como parâmetro a distância e retorna os litros)\n",
        "- Função para apresentar o resultado (recebe como parâmetro os valores e somente imprime o resultado)"
      ],
      "metadata": {
        "id": "NoMWe6pjP43W"
      }
    },
    {
      "cell_type": "code",
      "source": [
        "def lerValores():\n",
        "  a = int(input('Tempo: '))\n",
        "  b = int(input('Velocidade Média: '))\n",
        "  return a, b\n",
        "\n",
        "def calcularDistancia(temp, vel):\n",
        "  return temp * vel\n",
        "\n",
        "def calculaQtddLitros(distancia, kmPorLitro = 12):\n",
        "  return distancia/kmPorLitro\n",
        "\n",
        "def resultado(tempo, velocidadeMedia, distancia, litragem):\n",
        "  print(f'Em {tempo}, a {velocidadeMedia} km/h em {distancia} km meu carro usou {litragem} L')\n",
        "\n",
        "tempo, velocidade = lerValores()\n",
        "distancia = calcularDistancia(tempo, velocidade)\n",
        "litros = calculaQtddLitros(distancia)\n",
        "resultado(tempo, velocidade, distancia, litros)"
      ],
      "metadata": {
        "colab": {
          "base_uri": "https://localhost:8080/"
        },
        "id": "cKccXBvhPvwq",
        "outputId": "06bc1e05-f73c-44c0-91df-dda408fd5e5c"
      },
      "execution_count": null,
      "outputs": [
        {
          "output_type": "stream",
          "name": "stdout",
          "text": [
            "Tempo: 2\n",
            "Velocidade Média: 100\n",
            "Em 2, a 100 km/h em 200 km meu carro usou 16.666666666666668 L\n"
          ]
        }
      ]
    },
    {
      "cell_type": "markdown",
      "source": [
        "13 - Crie um arquivo .py com duas funções\n",
        "- Função para ler um string (recebe como parâmetro uma mensagem e retorna o que o usuário digitou)\n",
        "- Função para ler um número float (recebe como parâmetro uma mensagem e retorna o que o usuário digitou)\n",
        "\n",
        "\n",
        "\n",
        "Importar o arquivo criado no Google Colab e testar as funções"
      ],
      "metadata": {
        "id": "5qXAxlXNwqfW"
      }
    },
    {
      "cell_type": "code",
      "source": [
        "import EX13 as lib\n",
        "msg = input('Digite uma mensagem: ')\n",
        "num = float(input('Digite um número: '))\n",
        "\n",
        "lib.lerUmNumero(num)\n",
        "lib.lerMensagem(msg)"
      ],
      "metadata": {
        "colab": {
          "base_uri": "https://localhost:8080/"
        },
        "id": "VZZJ3YPmwwJ5",
        "outputId": "ac1c7bfe-8151-4b0a-d19c-397b87485dca"
      },
      "execution_count": null,
      "outputs": [
        {
          "output_type": "stream",
          "name": "stdout",
          "text": [
            "Digite uma mensagem: Olá tudo bem?\n",
            "Digite um número: 18\n",
            "O usuario digitou: 18.0\n",
            "O usuario digitou: Olá tudo bem?\n"
          ]
        }
      ]
    },
    {
      "cell_type": "markdown",
      "source": [
        "14 - Crie uma lista vazia e faça a leitura de dois valores do tipo float, colocando cada um dos valores nas primeiras posições da lista (o valor1 ficará na posição 0 da lista e o valor2 ficará na posição 1 da lista). Faça a divisão dos dois valores e trate as seguintes exceções:\n",
        "- ValueError: se o usuário digitar um caracter\n",
        "- ZeroDivisionError: se o usuário digitar zero e ocorrer erro na divisão\n",
        "- IndexError: caso a divisão seja feita levando em consideração posições que não existem na lista\n",
        "- KeyboardInterrupt: caso o usuário interrompa a execução\n",
        "\n",
        "\n",
        "\n",
        "Mostre uma mensagem personalizada na ocorrência de cada um desses erros"
      ],
      "metadata": {
        "id": "bpahA8iX5Rrd"
      }
    },
    {
      "cell_type": "code",
      "source": [
        "while True:\n",
        "  try:\n",
        "    lista = []\n",
        "    valor1 = float(input('Valor 1: '))\n",
        "    valor2 = float(input('Valor 2: '))\n",
        "    lista.append(valor1)\n",
        "    lista.append(valor2)\n",
        "    result = lista[0]/lista[1]\n",
        "  except ValueError:\n",
        "    print('Digite um número! ')\n",
        "  except ZeroDivisionError:\n",
        "    print('Divisão por 0! ')\n",
        "  except IndexError:\n",
        "    print('Index inexistente')\n",
        "  except KeyboardInterrupt:\n",
        "    print('Usuário interrompeu execução!')\n",
        "  else:\n",
        "    print(f'Resultado da divisão: {result}')\n",
        "    break"
      ],
      "metadata": {
        "colab": {
          "base_uri": "https://localhost:8080/"
        },
        "id": "GFzvDTUn5WL7",
        "outputId": "b8ff6113-6fce-4dae-a7f8-43ec1d38ceb5"
      },
      "execution_count": null,
      "outputs": [
        {
          "name": "stdout",
          "output_type": "stream",
          "text": [
            "Valor 1: 10\n",
            "Valor 2: 0\n",
            "Divisão por 0! \n",
            "Valor 1: aa\n",
            "Digite um número! \n",
            "Usuário interrompeu execução!\n",
            "Valor 1: 10\n",
            "Valor 2: 10\n",
            "Resultado da divisão: 1.0\n",
            "Valor 1: 10\n"
          ]
        }
      ]
    },
    {
      "cell_type": "markdown",
      "source": [
        "15 - Considerando o dicionário com o nome dos alunos e suas respectivas notas abaixo, crie uma estrutura de repetição para percorrer cada elemento do dicionário para gravar cada aluno em um novo arquivo de texto\n",
        "- Cada aluno deve ocupar uma linha do novo arquivo de texto\n",
        "- O formato deve ser: nome,nota (Pedro,8.0)\n",
        "- Após a criação do arquivo de texto, faça a leitura do arquivo e mostre todos os alunos\n",
        "\n",
        "alunos = {'Pedro': 8.0, 'Maria': 10.0, 'Amilton': 7.5}"
      ],
      "metadata": {
        "id": "RL2--w5I8Sk0"
      }
    },
    {
      "cell_type": "code",
      "source": [
        "alunos = {'Pedro': 8.0, 'Maria': 10.0, 'Amilton': 7.5}\n",
        "w = ''\n",
        "for elem in alunos.keys():\n",
        "  w += f'{elem},{alunos[elem]}\\n'\n",
        "\n",
        "with open('boletim.txt', 'w') as texto:\n",
        "  texto.write(w)\n",
        "\n",
        "with open('boletim.txt') as texto:\n",
        "  for linha in texto:\n",
        "    print(linha)"
      ],
      "metadata": {
        "colab": {
          "base_uri": "https://localhost:8080/"
        },
        "id": "sW3nRBng8YYA",
        "outputId": "97976d69-7835-4883-acf7-a55a421d7375"
      },
      "execution_count": null,
      "outputs": [
        {
          "output_type": "stream",
          "name": "stdout",
          "text": [
            "Pedro,8.0\n",
            "\n",
            "Maria,10.0\n",
            "\n",
            "Amilton,7.5\n",
            "\n"
          ]
        }
      ]
    },
    {
      "cell_type": "markdown",
      "source": [
        "16 - Crie expressões regulares para extrair as seguintes informações do texto abaixo (use a função findall):\n",
        "- Números\n",
        "- CEPs\n",
        "- URLs"
      ],
      "metadata": {
        "id": "-_xxMsNsoYY_"
      }
    },
    {
      "cell_type": "code",
      "source": [
        "import re\n",
        "frase = \"\"\"\n",
        "Na cidade de São Paulo, existem mais de 12 milhões de habitantes distribuídos em diferentes bairros. O CEP, ou Código de Endereçamento Postal, desempenha um papel crucial na organização logística dessa metrópole. Por exemplo, o CEP 04578-000 identifica a região da Vila Olímpia, conhecida por seus modernos edifícios corporativos e intensa vida noturna.\n",
        "\n",
        "Ao explorar essa região, é possível encontrar uma diversidade de estabelecimentos comerciais. Um exemplo é o restaurante \"Sabor Paulista\" localizado na Rua das Flores, 123. Para mais informações, você pode visitar o site oficial do restaurante: www.saborpaulista.com.br.\n",
        "\n",
        "Além disso, a cidade conta com diversas atrações culturais e eventos. Um dos destinos populares é o Museu de Arte de São Paulo (MASP), situado na Avenida Paulista, 1578. Se você está planejando uma visita, verifique os horários de funcionamento e outras informações importantes em www.masp.org.br.\n",
        "\n",
        "Nesse contexto urbano, os números, CEPs e URLs desempenham um papel fundamental na identificação e localização de endereços, facilitando a navegação e a comunicação na vasta paisagem urbana de São Paulo.\n",
        "\"\"\"\n",
        "\n",
        "numeros = re.findall('\\d+', frase)\n",
        "print(numeros)\n",
        "ceps = re.findall('\\d{5}-\\d{3}', frase)\n",
        "print(ceps)\n",
        "urls = re.findall('www\\.\\w+\\.com\\.br', frase)\n",
        "print(urls)\n"
      ],
      "metadata": {
        "colab": {
          "base_uri": "https://localhost:8080/"
        },
        "id": "E49_Te8QoPQS",
        "outputId": "92e43ec8-a945-40ca-c782-21ff4b2522c9"
      },
      "execution_count": null,
      "outputs": [
        {
          "output_type": "stream",
          "name": "stdout",
          "text": [
            "['12', '04578', '000', '123', '1578']\n",
            "['04578-000']\n",
            "['www.saborpaulista.com.br']\n"
          ]
        }
      ]
    },
    {
      "cell_type": "markdown",
      "source": [
        "17 - Crie uma classe chamada aluno com os seguintes atributos:\n",
        "- Nome\n",
        "- Nota 1\n",
        "- Nota 2\n",
        "- Crie um construtor para a classe (__init__)\n",
        "\n",
        "18 - Crie as seguintes funções (métodos):\n",
        "- Calcula média, retornando a média aritmética entre as notas\n",
        "- Mostra dados, que somente imprime o valor de todos os atributos\n",
        "- Resultado, que verifica se o aluno está aprovado ou reprovado (se a média for maior ou igual a 6.0, o aluno está aprovado)\n",
        "\n",
        "19 -Crie dois objetos (aluno1 e aluno2) e teste as funções"
      ],
      "metadata": {
        "id": "vaWoTrHntWvC"
      }
    },
    {
      "cell_type": "code",
      "source": [
        "class Aluno:\n",
        "  def __init__(self, nome, nota1, nota2):\n",
        "    self.nome = nome\n",
        "    self.nota1 = nota1\n",
        "    self.nota2 = nota2\n",
        "\n",
        "  def media(self):\n",
        "    return (self.nota1 + self.nota2)/2\n",
        "\n",
        "  def print(self):\n",
        "    print(f'Aluno {self.nome} tiro {self.nota1} e {self.nota2}')\n",
        "\n",
        "  def aprovacao(self):\n",
        "    if(self.media() >= 6):\n",
        "      print('Aluno aprovado!')\n",
        "    else:\n",
        "      print('Aluno reprovado!')\n",
        "\n",
        "aluno1 = Aluno('Weligton', 10, 5)\n",
        "aluno2 = Aluno('Pereira', 5, 5)\n",
        "\n",
        "print(aluno1.media())\n",
        "print(aluno2.media())\n",
        "\n",
        "aluno1.print()\n",
        "aluno2.print()\n",
        "\n",
        "aluno1.aprovacao()\n",
        "aluno2.aprovacao()"
      ],
      "metadata": {
        "colab": {
          "base_uri": "https://localhost:8080/"
        },
        "id": "3Wh0pLgTtUwL",
        "outputId": "3f0af48d-7b49-4b4d-e193-a3c29fb55a83"
      },
      "execution_count": null,
      "outputs": [
        {
          "output_type": "stream",
          "name": "stdout",
          "text": [
            "7.5\n",
            "5.0\n",
            "Aluno Weligton tiro 10 e 5\n",
            "Aluno Pereira tiro 5 e 5\n",
            "Aluno aprovado!\n",
            "Aluno reprovado!\n"
          ]
        }
      ]
    }
  ]
}